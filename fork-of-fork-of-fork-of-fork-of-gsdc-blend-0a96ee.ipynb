{
 "cells": [
  {
   "cell_type": "markdown",
   "id": "political-provider",
   "metadata": {
    "papermill": {
     "duration": 0.008476,
     "end_time": "2021-07-24T11:50:59.243869",
     "exception": false,
     "start_time": "2021-07-24T11:50:59.235393",
     "status": "completed"
    },
    "tags": []
   },
   "source": [
    "# Average top public notebooks\n",
    "\n",
    "Weighted mean in cartesian coordinates at equal altitude.\n",
    "\n",
    "**All credit to the authors of those notebooks; please look at their work:**\n",
    "* [GSDC phones mean prediction](https://www.kaggle.com/t88take/gsdc-phones-mean-prediction)\n",
    "* [device EDA & Interpolate by removing device[en,ja]](https://www.kaggle.com/columbia2131/device-eda-interpolate-by-removing-device-en-ja)\n",
    "* [GSDC: Position shift](https://www.kaggle.com/wrrosa/gsdc-position-shift)"
   ]
  },
  {
   "cell_type": "code",
   "execution_count": 1,
   "id": "virgin-civilian",
   "metadata": {
    "_cell_guid": "50aef91c-6606-489e-9b1f-a1d28f6c2659",
    "_uuid": "9955fe5e-58da-4178-8680-c0acec0bbd93",
    "collapsed": false,
    "execution": {
     "iopub.execute_input": "2021-07-24T11:50:59.270921Z",
     "iopub.status.busy": "2021-07-24T11:50:59.270142Z",
     "iopub.status.idle": "2021-07-24T11:51:01.282973Z",
     "shell.execute_reply": "2021-07-24T11:51:01.281794Z",
     "shell.execute_reply.started": "2021-07-24T11:50:21.849222Z"
    },
    "jupyter": {
     "outputs_hidden": false
    },
    "papermill": {
     "duration": 2.031477,
     "end_time": "2021-07-24T11:51:01.283143",
     "exception": false,
     "start_time": "2021-07-24T11:50:59.251666",
     "status": "completed"
    },
    "tags": []
   },
   "outputs": [],
   "source": [
    "import os\n",
    "import numpy\n",
    "import pandas as pd\n",
    "import wgs_ecef"
   ]
  },
  {
   "cell_type": "code",
   "execution_count": 2,
   "id": "stunning-motel",
   "metadata": {
    "execution": {
     "iopub.execute_input": "2021-07-24T11:51:01.315472Z",
     "iopub.status.busy": "2021-07-24T11:51:01.302917Z",
     "iopub.status.idle": "2021-07-24T11:51:02.029915Z",
     "shell.execute_reply": "2021-07-24T11:51:02.029312Z",
     "shell.execute_reply.started": "2021-07-24T11:50:22.782521Z"
    },
    "papermill": {
     "duration": 0.739209,
     "end_time": "2021-07-24T11:51:02.030075",
     "exception": false,
     "start_time": "2021-07-24T11:51:01.290866",
     "status": "completed"
    },
    "tags": []
   },
   "outputs": [
    {
     "name": "stdout",
     "output_type": "stream",
     "text": [
      "device-eda-interpolate-by-removing-device-en-ja  gsdc-phones-mean-prediction\r\n",
      "google-smartphone-decimeter-challenge\t\t gsdc-position-shift\r\n"
     ]
    }
   ],
   "source": [
    "!ls ../input/"
   ]
  },
  {
   "cell_type": "code",
   "execution_count": 3,
   "id": "numeric-member",
   "metadata": {
    "execution": {
     "iopub.execute_input": "2021-07-24T11:51:02.052711Z",
     "iopub.status.busy": "2021-07-24T11:51:02.052081Z",
     "iopub.status.idle": "2021-07-24T11:51:02.587974Z",
     "shell.execute_reply": "2021-07-24T11:51:02.587317Z",
     "shell.execute_reply.started": "2021-07-24T11:50:23.530837Z"
    },
    "papermill": {
     "duration": 0.549707,
     "end_time": "2021-07-24T11:51:02.588113",
     "exception": false,
     "start_time": "2021-07-24T11:51:02.038406",
     "status": "completed"
    },
    "tags": []
   },
   "outputs": [],
   "source": [
    "gsdc_position_shift = pd.read_csv('../input/gsdc-position-shift/submission.csv')\n",
    "gsdc_phones_mean_prediction = pd.read_csv('../input/gsdc-phones-mean-prediction/submission.csv')\n",
    "google_smartphone_decimeter_challenge = pd.read_csv('../input/device-eda-interpolate-by-removing-device-en-ja/submission.csv')"
   ]
  },
  {
   "cell_type": "code",
   "execution_count": 4,
   "id": "flying-spencer",
   "metadata": {
    "execution": {
     "iopub.execute_input": "2021-07-24T11:51:02.619201Z",
     "iopub.status.busy": "2021-07-24T11:51:02.618498Z",
     "iopub.status.idle": "2021-07-24T11:51:02.654923Z",
     "shell.execute_reply": "2021-07-24T11:51:02.654399Z",
     "shell.execute_reply.started": "2021-07-24T11:50:24.074254Z"
    },
    "papermill": {
     "duration": 0.058873,
     "end_time": "2021-07-24T11:51:02.655096",
     "exception": false,
     "start_time": "2021-07-24T11:51:02.596223",
     "status": "completed"
    },
    "tags": []
   },
   "outputs": [],
   "source": [
    "import numpy as np\n",
    "\n",
    "blend_weights_lat = {\n",
    "    \"gsdc-phones-mean-prediction\": (7.8 + 7.625) / 2 + 0.0625 + 0.0625/2 - 0.0625/4 + 0.0625/8,\n",
    "    \"device-eda-interpolate-by-removing-device-en-ja\":  (2.25 + 2.5) / 2,\n",
    "    \"gsdc-position-shift\":  0.75 - 0.125,\n",
    "}\n",
    "\n",
    "\n",
    "blend_weights_long = {\n",
    "    \"gsdc-phones-mean-prediction\": (7.5 + 7.625) / 2 + 0.0625  + 0.0625/2 - 0.0625/4 + 0.0625/8,\n",
    "    \"device-eda-interpolate-by-removing-device-en-ja\":(2.25 + 2.5) / 2,\n",
    "    \"gsdc-position-shift\": 0.75 - 0.125,\n",
    "}\n",
    "\n",
    "lat_norm = sum(blend_weights_lat.values())\n",
    "long_norm = sum(blend_weights_long.values())\n",
    "\n",
    "blend = gsdc_phones_mean_prediction\n",
    "# blend['millisSinceGpsEpoch'] = (\n",
    "#     gsdc_position_shift['millisSinceGpsEpoch'] * blend_weights[\"gsdc-position-shift\"]/norm +\n",
    "#     gsdc_phones_mean_prediction['millisSinceGpsEpoch'] * blend_weights[\"gsdc-phones-mean-prediction\"]/norm +\n",
    "#     google_smartphone_decimeter_challenge['millisSinceGpsEpoch'] * blend_weights[\"device-eda-interpolate-by-removing-device-en-ja\"]/norm\n",
    "# )\n",
    "\n",
    "\n",
    "blend['latDeg'] = (\n",
    "    gsdc_position_shift['latDeg'] **2 * blend_weights_lat[\"gsdc-position-shift\"]/lat_norm +\n",
    "    gsdc_phones_mean_prediction['latDeg'] **2 * blend_weights_lat[\"gsdc-phones-mean-prediction\"]/lat_norm +\n",
    "    google_smartphone_decimeter_challenge['latDeg']**2  * blend_weights_lat[\"device-eda-interpolate-by-removing-device-en-ja\"]/lat_norm \n",
    ")**0.5\n",
    "\n",
    "blend['lngDeg'] = (\n",
    "    gsdc_position_shift['lngDeg'] * blend_weights_long[\"gsdc-position-shift\"]/long_norm +\n",
    "    gsdc_phones_mean_prediction['lngDeg'] * blend_weights_long[\"gsdc-phones-mean-prediction\"]/long_norm +\n",
    "    google_smartphone_decimeter_challenge['lngDeg'] * blend_weights_long[\"device-eda-interpolate-by-removing-device-en-ja\"]/long_norm \n",
    ")\n",
    "\n"
   ]
  },
  {
   "cell_type": "code",
   "execution_count": 5,
   "id": "satisfactory-skiing",
   "metadata": {
    "execution": {
     "iopub.execute_input": "2021-07-24T11:51:02.678227Z",
     "iopub.status.busy": "2021-07-24T11:51:02.677557Z",
     "iopub.status.idle": "2021-07-24T11:51:02.684133Z",
     "shell.execute_reply": "2021-07-24T11:51:02.683508Z",
     "shell.execute_reply.started": "2021-07-24T11:50:24.128169Z"
    },
    "papermill": {
     "duration": 0.021248,
     "end_time": "2021-07-24T11:51:02.684271",
     "exception": false,
     "start_time": "2021-07-24T11:51:02.663023",
     "status": "completed"
    },
    "tags": []
   },
   "outputs": [
    {
     "data": {
      "text/plain": [
       "4.0"
      ]
     },
     "execution_count": 5,
     "metadata": {},
     "output_type": "execute_result"
    }
   ],
   "source": [
    "(4**2)**0.5"
   ]
  },
  {
   "cell_type": "code",
   "execution_count": 6,
   "id": "thorough-athens",
   "metadata": {
    "execution": {
     "iopub.execute_input": "2021-07-24T11:51:02.706574Z",
     "iopub.status.busy": "2021-07-24T11:51:02.705740Z",
     "iopub.status.idle": "2021-07-24T11:51:02.709314Z",
     "shell.execute_reply": "2021-07-24T11:51:02.708697Z",
     "shell.execute_reply.started": "2021-07-24T11:50:24.138600Z"
    },
    "papermill": {
     "duration": 0.016824,
     "end_time": "2021-07-24T11:51:02.709445",
     "exception": false,
     "start_time": "2021-07-24T11:51:02.692621",
     "status": "completed"
    },
    "tags": []
   },
   "outputs": [],
   "source": [
    "blend['millisSinceGpsEpoch'] = blend['millisSinceGpsEpoch'].astype(np.int64)"
   ]
  },
  {
   "cell_type": "code",
   "execution_count": 7,
   "id": "intimate-mercury",
   "metadata": {
    "execution": {
     "iopub.execute_input": "2021-07-24T11:51:02.731245Z",
     "iopub.status.busy": "2021-07-24T11:51:02.730257Z",
     "iopub.status.idle": "2021-07-24T11:51:03.407866Z",
     "shell.execute_reply": "2021-07-24T11:51:03.406693Z",
     "shell.execute_reply.started": "2021-07-24T11:50:32.767151Z"
    },
    "papermill": {
     "duration": 0.69041,
     "end_time": "2021-07-24T11:51:03.408089",
     "exception": false,
     "start_time": "2021-07-24T11:51:02.717679",
     "status": "completed"
    },
    "tags": []
   },
   "outputs": [],
   "source": [
    "blend.to_csv(\"submission.csv\", index=False)"
   ]
  }
 ],
 "metadata": {
  "kernelspec": {
   "display_name": "Python 3",
   "language": "python",
   "name": "python3"
  },
  "language_info": {
   "codemirror_mode": {
    "name": "ipython",
    "version": 3
   },
   "file_extension": ".py",
   "mimetype": "text/x-python",
   "name": "python",
   "nbconvert_exporter": "python",
   "pygments_lexer": "ipython3",
   "version": "3.7.10"
  },
  "papermill": {
   "default_parameters": {},
   "duration": 13.825165,
   "end_time": "2021-07-24T11:51:05.298179",
   "environment_variables": {},
   "exception": null,
   "input_path": "__notebook__.ipynb",
   "output_path": "__notebook__.ipynb",
   "parameters": {},
   "start_time": "2021-07-24T11:50:51.473014",
   "version": "2.3.3"
  }
 },
 "nbformat": 4,
 "nbformat_minor": 5
}
